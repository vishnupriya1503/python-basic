{
 "cells": [
  {
   "cell_type": "markdown",
   "metadata": {},
   "source": [
    "#Creating a String\n",
    "Strings are used for storing text.\n",
    "A string variable contains a collection of characters surrounded by double quotes.\n",
    "\n",
    "For example:\n",
    "\n",
    "     name = \"Chef\"\n",
    "Write a program which does the following\n",
    "\n",
    "1. Create a string named fruit and assign the value Apple to it.\n",
    "2. Output fruit to the console."
   ]
  },
  {
   "cell_type": "code",
   "execution_count": 1,
   "metadata": {},
   "outputs": [
    {
     "name": "stdout",
     "output_type": "stream",
     "text": [
      "Apple\n"
     ]
    }
   ],
   "source": [
    "fruit = \"Apple\"\n",
    "print(fruit)"
   ]
  },
  {
   "cell_type": "markdown",
   "metadata": {},
   "source": [
    "Concatenation\n",
    "The '+' sign can be used between strings to add them together to make a new string.\n",
    "This is called concatenation.\n",
    "For eg -\n",
    "\n",
    "x = \"Good\"\n",
    "y = \"Work\"\n",
    "print(x + y)   #output will be: GoodWork\n",
    "\n",
    "Note: You can add spaces between words by using an empty \" \" with a space inside or by providing a space in the end of a word.\n",
    "For eg -\n",
    "\n",
    "x = \"Good\"\n",
    "y = \"Work\"\n",
    "print(x + \" \" + y)   #output will be: Good Work\n",
    "\n",
    "Task\n",
    "Write a program which does the following\n",
    "\n",
    "1. Declare two variables x and y\n",
    "2. Assign the values Hello to variable x and World to variable y.\n",
    "3. Output x and y to the console. Don't forget to add a space in between them.\n",
    "4. Your output will be Hello World"
   ]
  },
  {
   "cell_type": "code",
   "execution_count": 2,
   "metadata": {},
   "outputs": [
    {
     "name": "stdout",
     "output_type": "stream",
     "text": [
      "Hello World\n"
     ]
    }
   ],
   "source": [
    "x = \"Hello\" \n",
    "y = \"World\"\n",
    "print(x + \" \" + y)"
   ]
  },
  {
   "cell_type": "markdown",
   "metadata": {},
   "source": [
    "Strings and Integers\n",
    "Python uses the + sign for both addition and concatenation.\n",
    "\n",
    "Numbers are added.\n",
    "Strings are concatenated.\n",
    "We cannot mix the two\n",
    "You are given a program which does the following\n",
    "\n",
    "1. You want to output 2569"
   ]
  },
  {
   "cell_type": "code",
   "execution_count": 3,
   "metadata": {},
   "outputs": [
    {
     "name": "stdout",
     "output_type": "stream",
     "text": [
      "2569\n"
     ]
    }
   ],
   "source": [
    "string1 = \"25\"\n",
    "string2 = \"69\"\n",
    "\n",
    "print(string1 + string2)"
   ]
  },
  {
   "cell_type": "markdown",
   "metadata": {},
   "source": [
    "String length\n",
    "We can use the len() function to get the length of a string.\n",
    "For eg.\n",
    "\n",
    "greeting = \"hello\"\n",
    "len_string = len(greeting)\n",
    "# len_string now stores the value of the length of greeting\n",
    "Task\n",
    "Write a program which does the following\n",
    "\n",
    "1. Create a variable txt and assign it the text NumeroTres\n",
    "2. Use the len() function to output to the console the number of characters in txt"
   ]
  },
  {
   "cell_type": "code",
   "execution_count": 4,
   "metadata": {},
   "outputs": [
    {
     "name": "stdout",
     "output_type": "stream",
     "text": [
      "10\n"
     ]
    }
   ],
   "source": [
    "txt = \"Numerotres\"\n",
    "len_txt = len(txt)\n",
    "print(len_txt)"
   ]
  },
  {
   "cell_type": "markdown",
   "metadata": {},
   "source": [
    "Outputting Characters from a String\n",
    "We can access the characters in a string by referring to its index number inside square brackets [].\n",
    "We use the concept of indexing which means every character in a string corresponds to a number called the index number\n",
    "\n",
    "               0 1 2 3 4 5 6 7  - index number\n",
    "     for eg - \"C o d e C h e f\"\n",
    "Note\n",
    "\n",
    "Indexing always starts from 0 when going left to right.\n",
    "So the first character of a string s is s[0] , the second is s[1] , and so on.\n",
    "Task\n",
    "Write a program which does the following\n",
    "\n",
    "1. Create a string variable word and assign the text Programming to it\n",
    "2. Print the characters o and r from the string word in separate lines using the syntax defined above"
   ]
  },
  {
   "cell_type": "code",
   "execution_count": 5,
   "metadata": {},
   "outputs": [
    {
     "name": "stdout",
     "output_type": "stream",
     "text": [
      "o\n",
      "r\n"
     ]
    }
   ],
   "source": [
    "word = \"programming\"\n",
    "print(word[2])\n",
    "print(word[1])"
   ]
  }
 ],
 "metadata": {
  "kernelspec": {
   "display_name": "base",
   "language": "python",
   "name": "python3"
  },
  "language_info": {
   "codemirror_mode": {
    "name": "ipython",
    "version": 3
   },
   "file_extension": ".py",
   "mimetype": "text/x-python",
   "name": "python",
   "nbconvert_exporter": "python",
   "pygments_lexer": "ipython3",
   "version": "3.11.7"
  }
 },
 "nbformat": 4,
 "nbformat_minor": 2
}
